{
 "cells": [
  {
   "cell_type": "code",
   "execution_count": 43,
   "metadata": {},
   "outputs": [],
   "source": [
    "import pandas as pd\n",
    "import numpy as np\n",
    "import matplotlib.pyplot as plt\n",
    "import seaborn as sns\n",
    "\n",
    "from sklearn.decomposition import PCA\n",
    "from sklearn.compose import make_column_selector\n",
    "from sklearn.preprocessing import KBinsDiscretizer, LabelEncoder, OneHotEncoder, OrdinalEncoder, RobustScaler, StandardScaler\n",
    "from sklearn.model_selection import train_test_split\n",
    "from sklearn.ensemble import RandomForestClassifier\n",
    "from sklearn.metrics import classification_report\n",
    "from sklearn.compose import ColumnTransformer\n",
    "from sklearn.pipeline import Pipeline"
   ]
  },
  {
   "cell_type": "code",
   "execution_count": 44,
   "metadata": {},
   "outputs": [],
   "source": [
    "X_train = pd.read_csv(\"X_train_tran.csv\")\n",
    "y_train = pd.read_csv(\"y_train_tran.csv\")\n",
    "X_val = pd.read_csv(\"X_val_tran.csv\")\n",
    "y_val = pd.read_csv(\"y_val_tran.csv\")\n",
    "myColumns = X_train.columns"
   ]
  },
  {
   "cell_type": "code",
   "execution_count": 45,
   "metadata": {},
   "outputs": [],
   "source": [
    "df = pd.read_csv(\"Customer-Churn-Records.csv\")\n",
    "\n",
    "df = df.drop(columns=['RowNumber','CustomerId'])\n",
    "df = df.drop(columns=['Complain'])\n",
    "df = df.rename(columns={'Card Type': 'CardType'})\n",
    "df = df.rename(columns={'Point Earned': 'PointsEarned'})\n",
    "df = df.rename(columns={'Geography': 'Country'})\n",
    "df = df.rename(columns={'Satisfaction Score': 'SatisfactionScore'})\n",
    "# save original columns\n",
    "myColumns_df = df.columns"
   ]
  },
  {
   "cell_type": "code",
   "execution_count": 46,
   "metadata": {},
   "outputs": [
    {
     "data": {
      "text/html": [
       "<div>\n",
       "<style scoped>\n",
       "    .dataframe tbody tr th:only-of-type {\n",
       "        vertical-align: middle;\n",
       "    }\n",
       "\n",
       "    .dataframe tbody tr th {\n",
       "        vertical-align: top;\n",
       "    }\n",
       "\n",
       "    .dataframe thead th {\n",
       "        text-align: right;\n",
       "    }\n",
       "</style>\n",
       "<table border=\"1\" class=\"dataframe\">\n",
       "  <thead>\n",
       "    <tr style=\"text-align: right;\">\n",
       "      <th></th>\n",
       "      <th>Tenure</th>\n",
       "      <th>NumOfProducts</th>\n",
       "      <th>HasCrCard</th>\n",
       "      <th>IsActiveMember</th>\n",
       "      <th>SatisfactionScore</th>\n",
       "      <th>CreditScoreOrd</th>\n",
       "      <th>AgeOrd</th>\n",
       "      <th>TaxBracket</th>\n",
       "      <th>BalanceOrd</th>\n",
       "      <th>PointsEarnedQuant</th>\n",
       "      <th>CardTypeOrd</th>\n",
       "      <th>SurnameOrd</th>\n",
       "      <th>CountryOrd</th>\n",
       "      <th>CountryHappy</th>\n",
       "      <th>GenderBinary</th>\n",
       "    </tr>\n",
       "  </thead>\n",
       "  <tbody>\n",
       "    <tr>\n",
       "      <th>0</th>\n",
       "      <td>2</td>\n",
       "      <td>2</td>\n",
       "      <td>1</td>\n",
       "      <td>0</td>\n",
       "      <td>2</td>\n",
       "      <td>3</td>\n",
       "      <td>1</td>\n",
       "      <td>4</td>\n",
       "      <td>0</td>\n",
       "      <td>1.0</td>\n",
       "      <td>1.0</td>\n",
       "      <td>0.0</td>\n",
       "      <td>1</td>\n",
       "      <td>6.48</td>\n",
       "      <td>0</td>\n",
       "    </tr>\n",
       "    <tr>\n",
       "      <th>1</th>\n",
       "      <td>1</td>\n",
       "      <td>1</td>\n",
       "      <td>1</td>\n",
       "      <td>1</td>\n",
       "      <td>1</td>\n",
       "      <td>4</td>\n",
       "      <td>1</td>\n",
       "      <td>3</td>\n",
       "      <td>1</td>\n",
       "      <td>2.0</td>\n",
       "      <td>2.0</td>\n",
       "      <td>0.0</td>\n",
       "      <td>2</td>\n",
       "      <td>6.69</td>\n",
       "      <td>0</td>\n",
       "    </tr>\n",
       "    <tr>\n",
       "      <th>2</th>\n",
       "      <td>2</td>\n",
       "      <td>1</td>\n",
       "      <td>0</td>\n",
       "      <td>1</td>\n",
       "      <td>1</td>\n",
       "      <td>4</td>\n",
       "      <td>4</td>\n",
       "      <td>4</td>\n",
       "      <td>3</td>\n",
       "      <td>2.0</td>\n",
       "      <td>0.0</td>\n",
       "      <td>0.0</td>\n",
       "      <td>2</td>\n",
       "      <td>6.69</td>\n",
       "      <td>0</td>\n",
       "    </tr>\n",
       "    <tr>\n",
       "      <th>3</th>\n",
       "      <td>4</td>\n",
       "      <td>1</td>\n",
       "      <td>1</td>\n",
       "      <td>0</td>\n",
       "      <td>1</td>\n",
       "      <td>2</td>\n",
       "      <td>1</td>\n",
       "      <td>1</td>\n",
       "      <td>2</td>\n",
       "      <td>0.0</td>\n",
       "      <td>2.0</td>\n",
       "      <td>2.0</td>\n",
       "      <td>3</td>\n",
       "      <td>7.03</td>\n",
       "      <td>1</td>\n",
       "    </tr>\n",
       "    <tr>\n",
       "      <th>4</th>\n",
       "      <td>8</td>\n",
       "      <td>2</td>\n",
       "      <td>0</td>\n",
       "      <td>1</td>\n",
       "      <td>3</td>\n",
       "      <td>3</td>\n",
       "      <td>3</td>\n",
       "      <td>3</td>\n",
       "      <td>0</td>\n",
       "      <td>2.0</td>\n",
       "      <td>0.0</td>\n",
       "      <td>0.0</td>\n",
       "      <td>2</td>\n",
       "      <td>6.69</td>\n",
       "      <td>1</td>\n",
       "    </tr>\n",
       "  </tbody>\n",
       "</table>\n",
       "</div>"
      ],
      "text/plain": [
       "   Tenure  NumOfProducts  HasCrCard  IsActiveMember  SatisfactionScore  \\\n",
       "0       2              2          1               0                  2   \n",
       "1       1              1          1               1                  1   \n",
       "2       2              1          0               1                  1   \n",
       "3       4              1          1               0                  1   \n",
       "4       8              2          0               1                  3   \n",
       "\n",
       "   CreditScoreOrd  AgeOrd  TaxBracket  BalanceOrd  PointsEarnedQuant  \\\n",
       "0               3       1           4           0                1.0   \n",
       "1               4       1           3           1                2.0   \n",
       "2               4       4           4           3                2.0   \n",
       "3               2       1           1           2                0.0   \n",
       "4               3       3           3           0                2.0   \n",
       "\n",
       "   CardTypeOrd  SurnameOrd  CountryOrd  CountryHappy  GenderBinary  \n",
       "0          1.0         0.0           1          6.48             0  \n",
       "1          2.0         0.0           2          6.69             0  \n",
       "2          0.0         0.0           2          6.69             0  \n",
       "3          2.0         2.0           3          7.03             1  \n",
       "4          0.0         0.0           2          6.69             1  "
      ]
     },
     "execution_count": 46,
     "metadata": {},
     "output_type": "execute_result"
    }
   ],
   "source": [
    "X_train.head()"
   ]
  },
  {
   "attachments": {},
   "cell_type": "markdown",
   "metadata": {},
   "source": [
    "<font color='skyBlue'> \n",
    "We start by looking at how an un-optimized RandomForest classifier rates the feature importance\n",
    "\n",
    "I compare the feature importance between the transformed dataset and the original churn dataset. To be able to compare i use a pretty standard pipeline with onehot, ordinal, and robustscaler.\n",
    "</font>"
   ]
  },
  {
   "cell_type": "code",
   "execution_count": 47,
   "metadata": {},
   "outputs": [
    {
     "name": "stdout",
     "output_type": "stream",
     "text": [
      "Top 15 important features:\n",
      "              Feature  Importance\n",
      "6              AgeOrd    0.160690\n",
      "1       NumOfProducts    0.130917\n",
      "0              Tenure    0.110911\n",
      "8          BalanceOrd    0.084066\n",
      "9   PointsEarnedQuant    0.077434\n",
      "4   SatisfactionScore    0.077018\n",
      "5      CreditScoreOrd    0.072771\n",
      "10        CardTypeOrd    0.064858\n",
      "7          TaxBracket    0.056582\n",
      "3      IsActiveMember    0.041064\n",
      "12         CountryOrd    0.031857\n",
      "13       CountryHappy    0.029489\n",
      "2           HasCrCard    0.027185\n",
      "14       GenderBinary    0.026426\n",
      "11         SurnameOrd    0.008732\n",
      "Classification Report:\n",
      "              precision    recall  f1-score   support\n",
      "\n",
      "           0       0.86      0.97      0.91       796\n",
      "           1       0.75      0.38      0.50       204\n",
      "\n",
      "    accuracy                           0.85      1000\n",
      "   macro avg       0.81      0.67      0.71      1000\n",
      "weighted avg       0.84      0.85      0.83      1000\n",
      "\n"
     ]
    }
   ],
   "source": [
    "y_train = np.ravel(y_train)\n",
    "\n",
    "# Adjusts weights so that the undersampled class get higher weight\n",
    "class_weights = dict(zip(np.unique(y_train), [len(y_train) / (len(np.unique(y_train)) * np.bincount(y_train)[i]) for i in np.unique(y_train)]))\n",
    "class_weights\n",
    "\n",
    "# Create a Random Forest classifier\n",
    "rf_model = RandomForestClassifier(class_weight=class_weights)\n",
    "\n",
    "# Train the Random Forest model\n",
    "rf_model.fit(X_train, y_train)\n",
    "\n",
    "# Get feature importances\n",
    "feature_importances = rf_model.feature_importances_\n",
    "\n",
    "# Create a DataFrame to store feature importances\n",
    "importance_df = pd.DataFrame({'Feature': X_train.columns, 'Importance': feature_importances})\n",
    "\n",
    "# Sort the DataFrame by importance (descending order)\n",
    "importance_df = importance_df.sort_values(by='Importance', ascending=False)\n",
    "\n",
    "# Display the features in order of importance\n",
    "n = len(X_train.columns)  # Number of top features to display\n",
    "top_features = importance_df.head(n)\n",
    "print(f\"Top {n} important features:\")\n",
    "print(top_features)\n",
    " \n",
    " # Make predictions on the test set\n",
    "y_pred = rf_model.predict(X_val)\n",
    "\n",
    "# Generate the classification report\n",
    "report = classification_report(y_val, y_pred)\n",
    "print(\"Classification Report:\")\n",
    "print(report)\n",
    "#* NuOfProducts is more important than was shown in the correlation map!\n",
    "#* Tenure is also more important now than was shown on the correlation map.\n",
    "#* Surprised gender is not used to a more significant degree\n",
    "#* Surname encoding seems to not have worked\n",
    "#* Wonder why balance and income are not very close to each other\n",
    "#* Country could most likely be used better"
   ]
  },
  {
   "attachments": {},
   "cell_type": "markdown",
   "metadata": {},
   "source": [
    "<font color='lightblue'> \n",
    "I want to see if the original features differ in feature importance\n",
    "</font>"
   ]
  },
  {
   "cell_type": "code",
   "execution_count": 48,
   "metadata": {},
   "outputs": [
    {
     "name": "stdout",
     "output_type": "stream",
     "text": [
      "Feature Importances:\n",
      "scaler__Age 0.22273821967961094\n",
      "ordinal__NumOfProducts 0.10621005306810602\n",
      "scaler__Balance 0.1036001719553055\n",
      "scaler__EstimatedSalary 0.09860774007392753\n",
      "scaler__PointsEarned 0.09531039622817061\n",
      "scaler__CreditScore 0.09514198269429261\n",
      "ordinal__Tenure 0.06224433471702473\n",
      "ordinal__SatisfactionScore 0.04233934260605584\n",
      "onehot__Country_Germany 0.023386077385788254\n",
      "onehot__IsActiveMember_1 0.020593949524294497\n",
      "onehot__IsActiveMember_0 0.01824997055980271\n",
      "onehot__CardType_DIAMOND 0.011971932722827695\n",
      "onehot__CardType_SILVER 0.011903862161809588\n",
      "onehot__Country_France 0.011899557599188154\n",
      "onehot__CardType_PLATINUM 0.011763898442634318\n",
      "onehot__CardType_GOLD 0.011551945205263855\n",
      "onehot__HasCrCard_0 0.01105289021321021\n",
      "onehot__HasCrCard_1 0.010924492870532852\n",
      "onehot__Gender_Female 0.01082879043843794\n",
      "onehot__Gender_Male 0.010327077054378131\n",
      "onehot__Country_Spain 0.00935331479933804\n"
     ]
    }
   ],
   "source": [
    "X = df.drop(['Exited','Surname'], axis=1) # I drop Surname since we have not encoded it\n",
    "y = df['Exited']\n",
    "# yy = np.ravel(y)\n",
    "X_trainDF, X_valDF, y_trainDF, y_valDF = train_test_split(X, y, test_size=0.2, random_state=40)\n",
    "\n",
    "\n",
    "# Define the categorical features for one-hot encoding\n",
    "categorical_features = ['Country', 'Gender', 'HasCrCard', 'IsActiveMember','CardType']\n",
    "\n",
    "# Define the ordinal features for ordinal encoding\n",
    "ordinal_features = ['Tenure', 'NumOfProducts', 'SatisfactionScore']\n",
    "\n",
    "# Define the continuous features for scaling\n",
    "continuous_features = ['CreditScore', 'Age', 'Balance', 'PointsEarned', 'EstimatedSalary']\n",
    "\n",
    "# Define the preprocessing steps\n",
    "preprocessor = ColumnTransformer(\n",
    "    transformers=[\n",
    "        ('onehot', OneHotEncoder(), categorical_features),\n",
    "        ('ordinal', OrdinalEncoder(), ordinal_features),\n",
    "        ('scaler', RobustScaler(), continuous_features) # For potential outliers\n",
    "    ])\n",
    "\n",
    "# Adjusts weights so that the undersampled class get higher weight\n",
    "class_weights = dict(zip(np.unique(y_trainDF), [len(y_trainDF) / (len(np.unique(y_trainDF)) * np.bincount(y_trainDF)[i]) for i in np.unique(y_trainDF)]))\n",
    "class_weights\n",
    "\n",
    "# Define the Random Forest classifier\n",
    "classifier = RandomForestClassifier(class_weight=class_weights)\n",
    "\n",
    "# Create the pipeline\n",
    "pipeline = Pipeline([\n",
    "    ('preprocessor', preprocessor),\n",
    "    ('classifier', classifier)\n",
    "])\n",
    "\n",
    "# Fit the pipeline to the training data\n",
    "pipeline.fit(X_trainDF, y_trainDF)\n",
    "\n",
    "# Get feature importances\n",
    "feature_importances = pipeline.named_steps['classifier'].feature_importances_\n",
    "\n",
    "# Create a DataFrame to store feature importances\n",
    "importance_df = pd.DataFrame({'Feature': pipeline.named_steps['preprocessor'].get_feature_names_out(), 'Importance': feature_importances})\n",
    "\n",
    "# Sort the DataFrame by importance (descending order)\n",
    "importance_df = importance_df.sort_values(by='Importance', ascending=False)\n",
    "\n",
    "# Print feature importances\n",
    "print(\"Feature Importances:\")\n",
    "for feature, importance in zip(importance_df['Feature'], importance_df['Importance']):\n",
    "    print(feature, importance)\n",
    "\n",
    "#* We can see that my transformations did make some difference but its a bit hard to interpret when you onehot encode. Age and NumOfProducts seems to still be of similar importance. TaxBracket is valued as more important here as well as country. 'separating' countries with onehot might help the model. Perhaps the feature differences will play a bigger role when it comes to hyperparameter tuning"
   ]
  },
  {
   "attachments": {},
   "cell_type": "markdown",
   "metadata": {},
   "source": [
    "<font color='skyBlue'> \n",
    "Lets look at mutual information for both the transformed and original data\n",
    "</font>"
   ]
  },
  {
   "cell_type": "code",
   "execution_count": 49,
   "metadata": {},
   "outputs": [
    {
     "data": {
      "text/plain": [
       "array([0.        , 0.07003827, 0.0057565 , 0.        , 0.0602434 ,\n",
       "       0.00121024, 0.00931083])"
      ]
     },
     "execution_count": 49,
     "metadata": {},
     "output_type": "execute_result"
    }
   ],
   "source": [
    "from sklearn.feature_selection import mutual_info_classif\n",
    "# determine the mutual information\n",
    "X_train_num = X_train[['Tenure', 'NumOfProducts','SatisfactionScore', 'PointsEarnedQuant','AgeOrd','TaxBracket','BalanceOrd',]]\n",
    "mutual_info = mutual_info_classif(X_train_num, y_train)\n",
    "mutual_info"
   ]
  },
  {
   "cell_type": "code",
   "execution_count": 50,
   "metadata": {},
   "outputs": [
    {
     "data": {
      "text/plain": [
       "NumOfProducts        0.070038\n",
       "AgeOrd               0.060243\n",
       "BalanceOrd           0.009311\n",
       "SatisfactionScore    0.005756\n",
       "TaxBracket           0.001210\n",
       "Tenure               0.000000\n",
       "PointsEarnedQuant    0.000000\n",
       "dtype: float64"
      ]
     },
     "execution_count": 50,
     "metadata": {},
     "output_type": "execute_result"
    }
   ],
   "source": [
    "mutual_info = pd.Series(mutual_info)\n",
    "mutual_info.index = X_train_num.columns\n",
    "mutual_info.sort_values(ascending=False)"
   ]
  },
  {
   "cell_type": "code",
   "execution_count": 51,
   "metadata": {},
   "outputs": [
    {
     "data": {
      "text/plain": [
       "<Axes: >"
      ]
     },
     "execution_count": 51,
     "metadata": {},
     "output_type": "execute_result"
    },
    {
     "data": {
      "image/png": "[encoded data removed]",
      "text/plain": [
       "<Figure size 2000x800 with 1 Axes>"
      ]
     },
     "metadata": {},
     "output_type": "display_data"
    }
   ],
   "source": [
    "#let's plot the ordered mutual_info values per feature\n",
    "mutual_info.sort_values(ascending=False).plot.bar(figsize=(20, 8))\n",
    "\n",
    "#* After Balance, the features have very low scores"
   ]
  },
  {
   "cell_type": "code",
   "execution_count": 52,
   "metadata": {},
   "outputs": [
    {
     "data": {
      "text/plain": [
       "array([0.0652969 , 0.00829133, 0.01151676, 0.0730117 , 0.00592067,\n",
       "       0.        , 0.00504819])"
      ]
     },
     "execution_count": 52,
     "metadata": {},
     "output_type": "execute_result"
    }
   ],
   "source": [
    "from sklearn.feature_selection import mutual_info_classif\n",
    "# determine the mutual information\n",
    "X_trainDF_num = X_trainDF[['Age', 'Tenure','Balance', 'NumOfProducts','EstimatedSalary','SatisfactionScore','PointsEarned',]]\n",
    "mutual_info222 = mutual_info_classif(X_trainDF_num, y_trainDF)\n",
    "mutual_info222"
   ]
  },
  {
   "cell_type": "code",
   "execution_count": 53,
   "metadata": {},
   "outputs": [
    {
     "data": {
      "text/plain": [
       "NumOfProducts        0.073012\n",
       "Age                  0.065297\n",
       "Balance              0.011517\n",
       "Tenure               0.008291\n",
       "EstimatedSalary      0.005921\n",
       "PointsEarned         0.005048\n",
       "SatisfactionScore    0.000000\n",
       "dtype: float64"
      ]
     },
     "execution_count": 53,
     "metadata": {},
     "output_type": "execute_result"
    }
   ],
   "source": [
    "mutual_info222 = pd.Series(mutual_info222)\n",
    "mutual_info222.index = X_trainDF_num.columns\n",
    "mutual_info222.sort_values(ascending=False)"
   ]
  },
  {
   "cell_type": "code",
   "execution_count": 54,
   "metadata": {},
   "outputs": [
    {
     "data": {
      "text/plain": [
       "<Axes: >"
      ]
     },
     "execution_count": 54,
     "metadata": {},
     "output_type": "execute_result"
    },
    {
     "data": {
      "image/png": "[encoded data removed]",
      "text/plain": [
       "<Figure size 2000x800 with 1 Axes>"
      ]
     },
     "metadata": {},
     "output_type": "display_data"
    }
   ],
   "source": [
    "#let's plot the ordered mutual_info values per feature\n",
    "mutual_info222.sort_values(ascending=False).plot.bar(figsize=(20, 8))\n",
    "\n",
    "#* Balance gets a lower score but EstimatedSalary, and Tenure get a higher score. Could this be intepered as it being not worth transform EstimatedSalary\n",
    "#* tbh i have a bit of hard time understanding how estimatedSalary can have rather high mutual info but still score low as a feature of importance for the randomForrest."
   ]
  },
  {
   "attachments": {},
   "cell_type": "markdown",
   "metadata": {},
   "source": [
    "<font color='skyBlue'> \n",
    "Let us also look at the categorical features in a similar way using chi-square test.\n",
    "We dont need to test both transformed and original since they are in the same format.\n",
    "</font>"
   ]
  },
  {
   "cell_type": "code",
   "execution_count": 55,
   "metadata": {},
   "outputs": [],
   "source": [
    "from sklearn.feature_selection import chi2\n",
    "# * We will consider binary features as categorical\n",
    "# * Surname is not really categorical now after it has been encoded\n",
    "X_train_cat = X_train[['GenderBinary', 'CountryOrd','SurnameOrd','HasCrCard','IsActiveMember']]\n",
    "f_p_values=chi2(X_train_cat ,y_train)"
   ]
  },
  {
   "cell_type": "code",
   "execution_count": 56,
   "metadata": {},
   "outputs": [
    {
     "data": {
      "text/plain": [
       "IsActiveMember    3.750575e-20\n",
       "GenderBinary      2.002341e-12\n",
       "CountryOrd        1.054061e-10\n",
       "HasCrCard         4.240394e-01\n",
       "SurnameOrd        7.075608e-01\n",
       "dtype: float64"
      ]
     },
     "execution_count": 56,
     "metadata": {},
     "output_type": "execute_result"
    }
   ],
   "source": [
    "p_values=pd.Series(f_p_values[1])\n",
    "p_values.index=X_train_cat.columns\n",
    "p_values.sort_values(ascending=True)\n",
    "#* HasCrCard and Surname are above the standard 0.05, so we can view them as not significant"
   ]
  },
  {
   "attachments": {},
   "cell_type": "markdown",
   "metadata": {},
   "source": [
    "<font color='skyBlue'> \n",
    "Let us take a look if classification remains mostly the same if we use PCA to reduce the features.\n",
    "</font>"
   ]
  },
  {
   "cell_type": "code",
   "execution_count": 57,
   "metadata": {},
   "outputs": [
    {
     "name": "stdout",
     "output_type": "stream",
     "text": [
      "Number of Components: 10\n",
      "Explained Variance Ratio: [0.37360462 0.10230878 0.09119447 0.08921701 0.08714033 0.0556375\n",
      " 0.05078668 0.04847998 0.03635011 0.02050438]\n"
     ]
    }
   ],
   "source": [
    "\n",
    "\n",
    "# Perform PCA with the desired percentage of variance\n",
    "pca = PCA(0.95)  # 95% of variance\n",
    "X_pca = pca.fit_transform(X_train)\n",
    "\n",
    "# Transform the validation data using the preprocessor\n",
    "X_val_pca = pca.transform(X_val)\n",
    "\n",
    "# Get the actual number of components that explain the desired variance\n",
    "n_components = pca.n_components_\n",
    "\n",
    "# Print the number of components and the explained variance ratio\n",
    "print(\"Number of Components:\", n_components)\n",
    "print(\"Explained Variance Ratio:\", pca.explained_variance_ratio_)\n",
    "\n",
    "#* we reduce the features from 15 to 10. Which could be really advantageous if we had so much data so that it took a long time to train the model\n",
    "#* This does tell us that even though there is not much correlation and information in the features according to the tests, the model can still find use for them.\n"
   ]
  },
  {
   "cell_type": "code",
   "execution_count": 58,
   "metadata": {},
   "outputs": [
    {
     "name": "stdout",
     "output_type": "stream",
     "text": [
      "Classification Report:\n",
      "              precision    recall  f1-score   support\n",
      "\n",
      "           0       0.82      0.95      0.88       796\n",
      "           1       0.48      0.18      0.26       204\n",
      "\n",
      "    accuracy                           0.79      1000\n",
      "   macro avg       0.65      0.57      0.57      1000\n",
      "weighted avg       0.75      0.79      0.75      1000\n",
      "\n"
     ]
    }
   ],
   "source": [
    "# Create a Random Forest classifier\n",
    "rf_model = RandomForestClassifier()\n",
    "\n",
    "# Train the Random Forest model\n",
    "rf_model.fit(X_pca, y_train)\n",
    "\n",
    "# Make predictions on the test set\n",
    "y_pred = rf_model.predict(X_val_pca)\n",
    "\n",
    "# Generate the classification report\n",
    "report = classification_report(y_val, y_pred)\n",
    "print(\"Classification Report:\")\n",
    "print(report)\n",
    "\n",
    "# * The results got worse and now 1 recall is even worse!\n"
   ]
  },
  {
   "cell_type": "code",
   "execution_count": 59,
   "metadata": {},
   "outputs": [
    {
     "name": "stdout",
     "output_type": "stream",
     "text": [
      "Classification Report:\n",
      "              precision    recall  f1-score   support\n",
      "\n",
      "           0       0.88      0.97      0.92      1616\n",
      "           1       0.78      0.43      0.55       384\n",
      "\n",
      "    accuracy                           0.87      2000\n",
      "   macro avg       0.83      0.70      0.74      2000\n",
      "weighted avg       0.86      0.87      0.85      2000\n",
      "\n"
     ]
    }
   ],
   "source": [
    "\n",
    "# Apply preprocessing only\n",
    "X_preprocessed = preprocessor.transform(X_trainDF)\n",
    "\n",
    "# Apply PCA\n",
    "pca = PCA(0.95)\n",
    "X_pca = pca.fit_transform(X_preprocessed)\n",
    "\n",
    "# Fit the classifier on the transformed data\n",
    "classifier.fit(X_pca, y_trainDF)\n",
    "\n",
    "# Apply preprocessing and PCA on the test data\n",
    "X_val_preprocessed = preprocessor.transform(X_valDF)\n",
    "X_val_pca = pca.transform(X_val_preprocessed)\n",
    "\n",
    "# Make predictions on the test set\n",
    "y_pred = classifier.predict(X_val_pca)\n",
    "\n",
    "# Generate the classification report\n",
    "report = classification_report(y_valDF, y_pred)\n",
    "print(\"Classification Report:\")\n",
    "print(report)\n",
    "\n",
    "#* Interesting. the standard pipeline handles feature reduction using PCA better. Especially at predicting True positives.\n",
    "#! cleaning up the code, see this as not as good since i forgot to save X_trainDF first time after splitting it. \n",
    "#! I have a feeling that there is a mistake here on my part but I but its to late to investigate further."
   ]
  },
  {
   "attachments": {},
   "cell_type": "markdown",
   "metadata": {},
   "source": [
    "<font color='lightblue'> \n",
    "I would say that this does tell us that even though the minor features does not show up as significant they are still used in some way to improve the model\n",
    "</font>"
   ]
  }
 ],
 "metadata": {
  "kernelspec": {
   "display_name": "newENV",
   "language": "python",
   "name": "python3"
  },
  "language_info": {
   "codemirror_mode": {
    "name": "ipython",
    "version": 3
   },
   "file_extension": ".py",
   "mimetype": "text/x-python",
   "name": "python",
   "nbconvert_exporter": "python",
   "pygments_lexer": "ipython3",
   "version": "3.10.9"
  },
  "orig_nbformat": 4
 },
 "nbformat": 4,
 "nbformat_minor": 2
}
